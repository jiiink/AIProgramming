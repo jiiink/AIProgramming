{
 "cells": [
  {
   "cell_type": "markdown",
   "metadata": {
    "id": "kL7hzb8tP7lO"
   },
   "source": [
    "# Hill Climber Class"
   ]
  },
  {
   "cell_type": "code",
   "execution_count": 23,
   "metadata": {},
   "outputs": [],
   "source": [
    "import numpy as np"
   ]
  },
  {
   "cell_type": "code",
   "execution_count": 24,
   "metadata": {
    "id": "ptW40mosp1kr",
    "is_executing": true
   },
   "outputs": [],
   "source": [
    "class HillClimber:\n",
    "    def __init__(self, generate_neighbor, objective_function, initial_solution, step_size=0.1, max_iter=1000):\n",
    "        self.generate_neighbor = generate_neighbor\n",
    "        self.objective_function = objective_function\n",
    "        self.current_solution = initial_solution\n",
    "        self.step_size = step_size\n",
    "        self.max_iter = max_iter\n",
    "        self.best_solution = None\n",
    "        self.best_score = float('-inf')\n",
    "\n",
    "\n",
    "\n",
    "    def fit(self):\n",
    "        for _ in range(self.max_iter):\n",
    "            new_solution = self.generate_neighbor(self.current_solution, self.step_size)\n",
    "            print(new_solution)\n",
    "            new_score = self.objective_function(new_solution)\n",
    "            print(new_score)\n",
    "\n",
    "            if new_score > self.best_score:\n",
    "                self.best_solution = new_solution\n",
    "                self.best_score = new_score\n",
    "                self.current_solution = new_solution\n",
    "\n",
    "        return self.best_solution\n",
    "\n",
    "    def predict(self):\n",
    "        return self.best_solution\n",
    "\n",
    "    def score(self):\n",
    "        return self.best_score"
   ]
  },
  {
   "cell_type": "code",
   "execution_count": 25,
   "metadata": {},
   "outputs": [],
   "source": [
    "def convex_function(x):\n",
    "    return (x[0] - 2) ** 2 + 5 * (x[1] - 5) ** 2 + 8 * (x[2] + 8) ** 2 + 3 * (x[3] + 1) ** 2 + 6 * (x[4] - 7) ** 2\n",
    "\n",
    "def generate_neighbor(current_solution, step_size):\n",
    "    return np.array([\n",
    "        current_solution - step_size*2,\n",
    "        current_solution - step_size,\n",
    "        current_solution,\n",
    "        current_solution + step_size,\n",
    "        current_solution + step_size*2\n",
    "    ])"
   ]
  },
  {
   "cell_type": "code",
   "execution_count": 26,
   "metadata": {},
   "outputs": [
    {
     "name": "stdout",
     "output_type": "stream",
     "text": [
      "[[-0.2 -0.2]\n",
      " [-0.1 -0.1]\n",
      " [ 0.   0. ]\n",
      " [ 0.1  0.1]\n",
      " [ 0.2  0.2]]\n",
      "[927.96 927.96]\n"
     ]
    },
    {
     "ename": "ValueError",
     "evalue": "The truth value of an array with more than one element is ambiguous. Use a.any() or a.all()",
     "output_type": "error",
     "traceback": [
      "\u001b[0;31m---------------------------------------------------------------------------\u001b[0m",
      "\u001b[0;31mValueError\u001b[0m                                Traceback (most recent call last)",
      "\u001b[1;32m/Users/kimbyeonghyeon/Workspace/AIProgramming/lab/week_10/week10_1_aip_lab_ipynb의_사본.ipynb Cell 5\u001b[0m line \u001b[0;36m3\n\u001b[1;32m      <a href='vscode-notebook-cell:/Users/kimbyeonghyeon/Workspace/AIProgramming/lab/week_10/week10_1_aip_lab_ipynb%EC%9D%98_%EC%82%AC%EB%B3%B8.ipynb#W5sZmlsZQ%3D%3D?line=0'>1</a>\u001b[0m x \u001b[39m=\u001b[39m np\u001b[39m.\u001b[39mrandom\u001b[39m.\u001b[39mrandint(\u001b[39m5\u001b[39m, size\u001b[39m=\u001b[39m(\u001b[39m2\u001b[39m, \u001b[39m5\u001b[39m))\n\u001b[1;32m      <a href='vscode-notebook-cell:/Users/kimbyeonghyeon/Workspace/AIProgramming/lab/week_10/week10_1_aip_lab_ipynb%EC%9D%98_%EC%82%AC%EB%B3%B8.ipynb#W5sZmlsZQ%3D%3D?line=1'>2</a>\u001b[0m hill \u001b[39m=\u001b[39m HillClimber(generate_neighbor, convex_function, np\u001b[39m.\u001b[39marray([\u001b[39m0\u001b[39m, \u001b[39m0\u001b[39m]))\n\u001b[0;32m----> <a href='vscode-notebook-cell:/Users/kimbyeonghyeon/Workspace/AIProgramming/lab/week_10/week10_1_aip_lab_ipynb%EC%9D%98_%EC%82%AC%EB%B3%B8.ipynb#W5sZmlsZQ%3D%3D?line=2'>3</a>\u001b[0m hill\u001b[39m.\u001b[39;49mfit()\n",
      "\u001b[1;32m/Users/kimbyeonghyeon/Workspace/AIProgramming/lab/week_10/week10_1_aip_lab_ipynb의_사본.ipynb Cell 5\u001b[0m line \u001b[0;36m2\n\u001b[1;32m     <a href='vscode-notebook-cell:/Users/kimbyeonghyeon/Workspace/AIProgramming/lab/week_10/week10_1_aip_lab_ipynb%EC%9D%98_%EC%82%AC%EB%B3%B8.ipynb#W5sZmlsZQ%3D%3D?line=16'>17</a>\u001b[0m new_score \u001b[39m=\u001b[39m \u001b[39mself\u001b[39m\u001b[39m.\u001b[39mobjective_function(new_solution)\n\u001b[1;32m     <a href='vscode-notebook-cell:/Users/kimbyeonghyeon/Workspace/AIProgramming/lab/week_10/week10_1_aip_lab_ipynb%EC%9D%98_%EC%82%AC%EB%B3%B8.ipynb#W5sZmlsZQ%3D%3D?line=17'>18</a>\u001b[0m \u001b[39mprint\u001b[39m(new_score)\n\u001b[0;32m---> <a href='vscode-notebook-cell:/Users/kimbyeonghyeon/Workspace/AIProgramming/lab/week_10/week10_1_aip_lab_ipynb%EC%9D%98_%EC%82%AC%EB%B3%B8.ipynb#W5sZmlsZQ%3D%3D?line=19'>20</a>\u001b[0m \u001b[39mif\u001b[39;00m new_score \u001b[39m>\u001b[39m \u001b[39mself\u001b[39m\u001b[39m.\u001b[39mbest_score:\n\u001b[1;32m     <a href='vscode-notebook-cell:/Users/kimbyeonghyeon/Workspace/AIProgramming/lab/week_10/week10_1_aip_lab_ipynb%EC%9D%98_%EC%82%AC%EB%B3%B8.ipynb#W5sZmlsZQ%3D%3D?line=20'>21</a>\u001b[0m     \u001b[39mself\u001b[39m\u001b[39m.\u001b[39mbest_solution \u001b[39m=\u001b[39m new_solution\n\u001b[1;32m     <a href='vscode-notebook-cell:/Users/kimbyeonghyeon/Workspace/AIProgramming/lab/week_10/week10_1_aip_lab_ipynb%EC%9D%98_%EC%82%AC%EB%B3%B8.ipynb#W5sZmlsZQ%3D%3D?line=21'>22</a>\u001b[0m     \u001b[39mself\u001b[39m\u001b[39m.\u001b[39mbest_score \u001b[39m=\u001b[39m new_score\n",
      "\u001b[0;31mValueError\u001b[0m: The truth value of an array with more than one element is ambiguous. Use a.any() or a.all()"
     ]
    }
   ],
   "source": [
    "x = np.random.randint(5, size=(2, 5))\n",
    "hill = HillClimber(generate_neighbor, convex_function, np.array([0, 0]))\n",
    "hill.fit()\n"
   ]
  },
  {
   "cell_type": "markdown",
   "metadata": {
    "id": "WsPk_819Nm9N"
   },
   "source": [
    "# 1\n",
    "Given the base class HillClimber, implement a FirstChoiceHillClimber class that extends the functionality of hill climbing by selecting the first neighboring solution that is better than the current solution. Override the fit method to perform the hill climbing process, predict to return the best solution found, and score to return the objective value of the best solution."
   ]
  },
  {
   "cell_type": "code",
   "execution_count": null,
   "metadata": {
    "id": "OPsgKsUWQGI8"
   },
   "outputs": [],
   "source": [
    "class FirstChoiceHillClimber(HillClimber):\n",
    "    # def __init__(self, generate_neighbor, objective_function, initial_solution, step_size=0.1, max_iter=1000):\n",
    "    #     # self.generate_neighbor = generate_neighbor\n",
    "    #     # self.objective_function = objective_function\n",
    "    #     # self.current_solution = initial_solution\n",
    "    #     # self.step_size = step_size\n",
    "    #     # self.max_iter = max_iter\n",
    "    #     # self.best_solution = None\n",
    "    #     # self.best_score = float('-inf')\n",
    "    #     super(generate_neighbor, objective_function, initial_solution, step_size, max_iter)\n",
    "    def fit(self):"
   ]
  },
  {
   "cell_type": "markdown",
   "metadata": {
    "id": "-3ep3TEHMv_l"
   },
   "source": [
    "#2\n",
    "Using the provided HillClimber class, create a SteepestAscentHillClimber class that finds the best neighbor out of all possible neighbor solutions generated in one iteration and moves to it if it is better than the current solution. Implement fit, predict, and score methods according to the class' operations."
   ]
  },
  {
   "cell_type": "code",
   "execution_count": null,
   "metadata": {},
   "outputs": [],
   "source": [
    "class SteepestAscentHillClimber:\n",
    "    "
   ]
  },
  {
   "cell_type": "markdown",
   "metadata": {
    "id": "MgiWOgNv2R6J"
   },
   "source": [
    "#4\n",
    "```\n",
    "def convex_function(x):\n",
    "    return (x[0] - 2) ** 2 + 5 * (x[1] - 5) ** 2 + 8 * (x[2] + 8) ** 2 + 3 * (x[3] + 1) ** 2 + 6 * (x[4] - 7) ** 2\n",
    "```"
   ]
  },
  {
   "cell_type": "code",
   "execution_count": null,
   "metadata": {},
   "outputs": [],
   "source": [
    "def convex_function(x):\n",
    "    return (x[0] - 2) ** 2 + 5 * (x[1] - 5) ** 2 + 8 * (x[2] + 8) ** 2 + 3 * (x[3] + 1) ** 2 + 6 * (x[4] - 7) ** 2"
   ]
  },
  {
   "cell_type": "code",
   "execution_count": null,
   "metadata": {},
   "outputs": [],
   "source": [
    "def initial_solution_generator(num):\n",
    "    return num"
   ]
  },
  {
   "cell_type": "code",
   "execution_count": null,
   "metadata": {
    "id": "OrkZJnBy_7OV"
   },
   "outputs": [],
   "source": [
    "# Test the FirstChoiceHillClimber class\n",
    "initial_solution = initial_solution_generator(5)\n",
    "first_choice_hill_climber = FirstChoiceHillClimber(\n",
    "    generate_neighbor=generate_neighbor,\n",
    "    objective_function=convex_function,\n",
    "    initial_solution=initial_solution,\n",
    "    step_size=0.1,\n",
    "    max_iter=1000\n",
    ")\n",
    "first_choice_hill_climber.fit()\n",
    "print(f\"First Choice Hill Climber Best Solution: {first_choice_hill_climber.predict()}\")\n",
    "print(f\"First Choice Hill Climber Best Score: {first_choice_hill_climber.score()}\")"
   ]
  },
  {
   "cell_type": "code",
   "execution_count": null,
   "metadata": {
    "id": "cljrNgYNWI6M"
   },
   "outputs": [],
   "source": [
    "initial_solution = initial_solution_generator(5)\n",
    "steepest_ascent_hill_climber = SteepestAscentHillClimber(\n",
    "    generate_neighbor=generate_continuous_neighbor,\n",
    "    objective_function=convex_function,\n",
    "    initial_solution=initial_solution,\n",
    "    step_size=0.1,\n",
    "    max_iter=1000\n",
    ")\n",
    "steepest_ascent_hill_climber.fit()\n",
    "print(f\"Steepest Ascent Hill Climber Best Solution: {steepest_ascent_hill_climber.predict()}\")\n",
    "print(f\"Steepest Ascent Hill Climber Best Score: {steepest_ascent_hill_climber.score()}\")"
   ]
  }
 ],
 "metadata": {
  "colab": {
   "provenance": [],
   "toc_visible": true
  },
  "kernelspec": {
   "display_name": "Python 3",
   "name": "python3"
  },
  "language_info": {
   "codemirror_mode": {
    "name": "ipython",
    "version": 3
   },
   "file_extension": ".py",
   "mimetype": "text/x-python",
   "name": "python",
   "nbconvert_exporter": "python",
   "pygments_lexer": "ipython3",
   "version": "3.9.6"
  }
 },
 "nbformat": 4,
 "nbformat_minor": 0
}
