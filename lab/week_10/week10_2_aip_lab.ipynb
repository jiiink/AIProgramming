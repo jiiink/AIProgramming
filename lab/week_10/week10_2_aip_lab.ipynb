{
  "cells": [
    {
      "cell_type": "markdown",
      "metadata": {
        "id": "bQTQkVBu4JAa"
      },
      "source": [
        "# Version History\n",
        "\n",
        "VERSION 0.2:\n",
        "* Introduced the mode parameter to toggle between maximization and minimization.\n",
        "* Added a lambda function, is_better, to abstract the comparison logic based on the mode.\n",
        "* The best_score is now set based on the mode of operation.\n",
        "* The fit method is updated to use the is_better function for comparison.\n",
        "\n",
        "\n",
        "\n",
        "VERSION 0.1:\n",
        "* Basic hill climbing functionality to maximize an objective function.\n",
        "* The fit method only seeks to improve (maximize) the objective function score.\n",
        "* The best_score is initialized to negative infinity to ensure any score is better.\n"
      ]
    },
    {
      "cell_type": "markdown",
      "metadata": {
        "id": "kL7hzb8tP7lO"
      },
      "source": [
        "# Hill Climber Class"
      ]
    },
    {
      "cell_type": "code",
      "execution_count": 54,
      "metadata": {},
      "outputs": [],
      "source": [
        "cities = [\n",
        "    (8, 31), (54, 97), (50, 50), (65, 16), (70, 47), (25, 100), (55, 74), (77, 87),\n",
        "    (6, 46), (70, 78), (13, 38), (100, 32), (26, 35), (55, 16), (26, 77), (17, 67),\n",
        "    (40, 36), (38, 27), (33, 2), (48, 9), (62, 20), (17, 92), (30, 2), (80, 75),\n",
        "    (32, 36), (43, 79), (57, 49), (18, 24), (96, 76), (81, 39)\n",
        "]"
      ]
    },
    {
      "cell_type": "code",
      "execution_count": 55,
      "metadata": {
        "id": "ptW40mosp1kr"
      },
      "outputs": [],
      "source": [
        "class HillClimber:\n",
        "  def __init__(self, generate_neighbor,\n",
        "              objective_function,\n",
        "              initial_solution_generator,\n",
        "              step_size=0.1,\n",
        "              max_iter=1000,\n",
        "              mode='max',\n",
        "              num_restarts=10,\n",
        "              ):\n",
        "    self.generate_neighbor = generate_neighbor\n",
        "    self.objective_function = objective_function\n",
        "    self.initial_solution_generator = initial_solution_generator\n",
        "    self.current_solution = initial_solution_generator()\n",
        "    self.step_size = step_size\n",
        "    self.max_iter = max_iter\n",
        "    self.best_score = None\n",
        "    self._setup_mode(mode)\n",
        "    self.num_restarts = num_restarts\n",
        "    self.first = lambda x: x[0]\n",
        "\n",
        "  def _setup_mode(self, mode):\n",
        "    self.best_score = float('-inf') if mode == 'max' else float('inf')\n",
        "    if mode == 'max':\n",
        "        self.is_better = lambda new, best: new > best\n",
        "        self.best_score = float('-inf')\n",
        "    else:\n",
        "        self.is_better = lambda new, best: new < best\n",
        "        self.best_score = float('inf')\n",
        "\n",
        "  def fit(self):\n",
        "    for _ in range(self.max_iter):\n",
        "        new_solution = self.first(self.generate_neighbor(self.current_solution, self.step_size))\n",
        "        new_score = self.objective_function(new_solution)\n",
        "\n",
        "        if self.is_better(new_score, self.best_score):\n",
        "            self.best_solution = new_solution\n",
        "            self.best_score = new_score\n",
        "            self.current_solution = new_solution\n",
        "\n",
        "    return self.best_solution\n",
        "\n",
        "  def predict(self):\n",
        "      return self.best_solution\n",
        "\n",
        "  def score(self):\n",
        "      return self.best_score"
      ]
    },
    {
      "cell_type": "markdown",
      "metadata": {
        "id": "RC03wvHwOHjk"
      },
      "source": [
        "# 0. Discrete Problem Test"
      ]
    },
    {
      "cell_type": "code",
      "execution_count": 6,
      "metadata": {},
      "outputs": [],
      "source": [
        "import numpy as np"
      ]
    },
    {
      "cell_type": "code",
      "execution_count": 74,
      "metadata": {},
      "outputs": [],
      "source": [
        "def generate_neighbor(solution, step_size):\n",
        "    # print(\"before\", solution)\n",
        "    # solution[0] = solution[np.random.randint(low=0, high=len(solution))]\n",
        "    # print(\"after\", solution)\n",
        "    print(\"generate_neighbor\", solution)\n",
        "    solution_arr = [np.array(x) for x in solution]\n",
        "    solution_arr[0] = solution_arr[np.random.randint(low=0, high=len(solution_arr))]\n",
        "    return solution_arr\n",
        "# def convex_function(x):\n",
        "#     return (x[0] - 2) ** 2 + 5 * (x[1] - 5) ** 2 + 8 * (x[2] + 8) ** 2 + 3 * (x[3] + 1) ** 2 + 6 * (x[4] - 7) ** 2\n",
        "\n",
        "\n",
        "def initial_solution_generator():\n",
        "    return cities\n"
      ]
    },
    {
      "cell_type": "code",
      "execution_count": 75,
      "metadata": {
        "id": "S5TkwI0GOHLv"
      },
      "outputs": [
        {
          "name": "stdout",
          "output_type": "stream",
          "text": [
            "generate_neighbor [(55, 16), (54, 97), (50, 50), (65, 16), (70, 47), (25, 100), (55, 74), (77, 87), (6, 46), (70, 78), (13, 38), (100, 32), (26, 35), (55, 16), (26, 77), (17, 67), (40, 36), (38, 27), (33, 2), (48, 9), (62, 20), (17, 92), (30, 2), (80, 75), (32, 36), (43, 79), (57, 49), (18, 24), (96, 76), (81, 39)]\n",
            "generate_neighbor [54 97]\n",
            "generate_neighbor [54 97]\n",
            "generate_neighbor 54\n"
          ]
        },
        {
          "ename": "TypeError",
          "evalue": "iteration over a 0-d array",
          "output_type": "error",
          "traceback": [
            "\u001b[1;31m---------------------------------------------------------------------------\u001b[0m",
            "\u001b[1;31mTypeError\u001b[0m                                 Traceback (most recent call last)",
            "\u001b[1;32mc:\\Users\\bhkim\\Workspace\\AIProgramming\\lab\\week_10\\week10_2_aip_lab.ipynb Cell 8\u001b[0m line \u001b[0;36m1\n\u001b[0;32m      <a href='vscode-notebook-cell:/c%3A/Users/bhkim/Workspace/AIProgramming/lab/week_10/week10_2_aip_lab.ipynb#W4sZmlsZQ%3D%3D?line=7'>8</a>\u001b[0m     \u001b[39mreturn\u001b[39;00m sqrt(((target \u001b[39m-\u001b[39m new_solution) \u001b[39m*\u001b[39m\u001b[39m*\u001b[39m \u001b[39m2\u001b[39m)[\u001b[39m0\u001b[39m] \u001b[39m+\u001b[39m ((target \u001b[39m-\u001b[39m new_solution) \u001b[39m*\u001b[39m\u001b[39m*\u001b[39m \u001b[39m2\u001b[39m)[\u001b[39m1\u001b[39m])\n\u001b[0;32m     <a href='vscode-notebook-cell:/c%3A/Users/bhkim/Workspace/AIProgramming/lab/week_10/week10_2_aip_lab.ipynb#W4sZmlsZQ%3D%3D?line=10'>11</a>\u001b[0m hc \u001b[39m=\u001b[39m HillClimber(\n\u001b[0;32m     <a href='vscode-notebook-cell:/c%3A/Users/bhkim/Workspace/AIProgramming/lab/week_10/week10_2_aip_lab.ipynb#W4sZmlsZQ%3D%3D?line=11'>12</a>\u001b[0m         generate_neighbor\u001b[39m=\u001b[39mgenerate_neighbor,\n\u001b[0;32m     <a href='vscode-notebook-cell:/c%3A/Users/bhkim/Workspace/AIProgramming/lab/week_10/week10_2_aip_lab.ipynb#W4sZmlsZQ%3D%3D?line=12'>13</a>\u001b[0m         objective_function\u001b[39m=\u001b[39mobjective_function,\n\u001b[0;32m     <a href='vscode-notebook-cell:/c%3A/Users/bhkim/Workspace/AIProgramming/lab/week_10/week10_2_aip_lab.ipynb#W4sZmlsZQ%3D%3D?line=13'>14</a>\u001b[0m         initial_solution_generator\u001b[39m=\u001b[39minitial_solution_generator,\n\u001b[0;32m     <a href='vscode-notebook-cell:/c%3A/Users/bhkim/Workspace/AIProgramming/lab/week_10/week10_2_aip_lab.ipynb#W4sZmlsZQ%3D%3D?line=14'>15</a>\u001b[0m         mode\u001b[39m=\u001b[39m\u001b[39m'\u001b[39m\u001b[39mmin\u001b[39m\u001b[39m'\u001b[39m\n\u001b[0;32m     <a href='vscode-notebook-cell:/c%3A/Users/bhkim/Workspace/AIProgramming/lab/week_10/week10_2_aip_lab.ipynb#W4sZmlsZQ%3D%3D?line=15'>16</a>\u001b[0m )\n\u001b[1;32m---> <a href='vscode-notebook-cell:/c%3A/Users/bhkim/Workspace/AIProgramming/lab/week_10/week10_2_aip_lab.ipynb#W4sZmlsZQ%3D%3D?line=16'>17</a>\u001b[0m hc\u001b[39m.\u001b[39;49mfit()\n\u001b[0;32m     <a href='vscode-notebook-cell:/c%3A/Users/bhkim/Workspace/AIProgramming/lab/week_10/week10_2_aip_lab.ipynb#W4sZmlsZQ%3D%3D?line=17'>18</a>\u001b[0m \u001b[39mprint\u001b[39m(\u001b[39mf\u001b[39m\u001b[39m\"\u001b[39m\u001b[39mHill Climber Best Solution: \u001b[39m\u001b[39m{\u001b[39;00mhc\u001b[39m.\u001b[39mpredict()\u001b[39m}\u001b[39;00m\u001b[39m\"\u001b[39m)\n\u001b[0;32m     <a href='vscode-notebook-cell:/c%3A/Users/bhkim/Workspace/AIProgramming/lab/week_10/week10_2_aip_lab.ipynb#W4sZmlsZQ%3D%3D?line=18'>19</a>\u001b[0m \u001b[39mprint\u001b[39m(\u001b[39mf\u001b[39m\u001b[39m\"\u001b[39m\u001b[39mHill Climber Best Score: \u001b[39m\u001b[39m{\u001b[39;00mhc\u001b[39m.\u001b[39mscore()\u001b[39m}\u001b[39;00m\u001b[39m\"\u001b[39m)\n",
            "\u001b[1;32mc:\\Users\\bhkim\\Workspace\\AIProgramming\\lab\\week_10\\week10_2_aip_lab.ipynb Cell 8\u001b[0m line \u001b[0;36m3\n\u001b[0;32m     <a href='vscode-notebook-cell:/c%3A/Users/bhkim/Workspace/AIProgramming/lab/week_10/week10_2_aip_lab.ipynb#W4sZmlsZQ%3D%3D?line=29'>30</a>\u001b[0m \u001b[39mdef\u001b[39;00m \u001b[39mfit\u001b[39m(\u001b[39mself\u001b[39m):\n\u001b[0;32m     <a href='vscode-notebook-cell:/c%3A/Users/bhkim/Workspace/AIProgramming/lab/week_10/week10_2_aip_lab.ipynb#W4sZmlsZQ%3D%3D?line=30'>31</a>\u001b[0m   \u001b[39mfor\u001b[39;00m _ \u001b[39min\u001b[39;00m \u001b[39mrange\u001b[39m(\u001b[39mself\u001b[39m\u001b[39m.\u001b[39mmax_iter):\n\u001b[1;32m---> <a href='vscode-notebook-cell:/c%3A/Users/bhkim/Workspace/AIProgramming/lab/week_10/week10_2_aip_lab.ipynb#W4sZmlsZQ%3D%3D?line=31'>32</a>\u001b[0m       new_solution \u001b[39m=\u001b[39m \u001b[39mself\u001b[39m\u001b[39m.\u001b[39mfirst(\u001b[39mself\u001b[39;49m\u001b[39m.\u001b[39;49mgenerate_neighbor(\u001b[39mself\u001b[39;49m\u001b[39m.\u001b[39;49mcurrent_solution, \u001b[39mself\u001b[39;49m\u001b[39m.\u001b[39;49mstep_size))\n\u001b[0;32m     <a href='vscode-notebook-cell:/c%3A/Users/bhkim/Workspace/AIProgramming/lab/week_10/week10_2_aip_lab.ipynb#W4sZmlsZQ%3D%3D?line=32'>33</a>\u001b[0m       new_score \u001b[39m=\u001b[39m \u001b[39mself\u001b[39m\u001b[39m.\u001b[39mobjective_function(new_solution)\n\u001b[0;32m     <a href='vscode-notebook-cell:/c%3A/Users/bhkim/Workspace/AIProgramming/lab/week_10/week10_2_aip_lab.ipynb#W4sZmlsZQ%3D%3D?line=34'>35</a>\u001b[0m       \u001b[39mif\u001b[39;00m \u001b[39mself\u001b[39m\u001b[39m.\u001b[39mis_better(new_score, \u001b[39mself\u001b[39m\u001b[39m.\u001b[39mbest_score):\n",
            "\u001b[1;32mc:\\Users\\bhkim\\Workspace\\AIProgramming\\lab\\week_10\\week10_2_aip_lab.ipynb Cell 8\u001b[0m line \u001b[0;36m6\n\u001b[0;32m      <a href='vscode-notebook-cell:/c%3A/Users/bhkim/Workspace/AIProgramming/lab/week_10/week10_2_aip_lab.ipynb#W4sZmlsZQ%3D%3D?line=0'>1</a>\u001b[0m \u001b[39mdef\u001b[39;00m \u001b[39mgenerate_neighbor\u001b[39m(solution, step_size):\n\u001b[0;32m      <a href='vscode-notebook-cell:/c%3A/Users/bhkim/Workspace/AIProgramming/lab/week_10/week10_2_aip_lab.ipynb#W4sZmlsZQ%3D%3D?line=1'>2</a>\u001b[0m     \u001b[39m# print(\"before\", solution)\u001b[39;00m\n\u001b[0;32m      <a href='vscode-notebook-cell:/c%3A/Users/bhkim/Workspace/AIProgramming/lab/week_10/week10_2_aip_lab.ipynb#W4sZmlsZQ%3D%3D?line=2'>3</a>\u001b[0m     \u001b[39m# solution[0] = solution[np.random.randint(low=0, high=len(solution))]\u001b[39;00m\n\u001b[0;32m      <a href='vscode-notebook-cell:/c%3A/Users/bhkim/Workspace/AIProgramming/lab/week_10/week10_2_aip_lab.ipynb#W4sZmlsZQ%3D%3D?line=3'>4</a>\u001b[0m     \u001b[39m# print(\"after\", solution)\u001b[39;00m\n\u001b[0;32m      <a href='vscode-notebook-cell:/c%3A/Users/bhkim/Workspace/AIProgramming/lab/week_10/week10_2_aip_lab.ipynb#W4sZmlsZQ%3D%3D?line=4'>5</a>\u001b[0m     \u001b[39mprint\u001b[39m(\u001b[39m\"\u001b[39m\u001b[39mgenerate_neighbor\u001b[39m\u001b[39m\"\u001b[39m, solution)\n\u001b[1;32m----> <a href='vscode-notebook-cell:/c%3A/Users/bhkim/Workspace/AIProgramming/lab/week_10/week10_2_aip_lab.ipynb#W4sZmlsZQ%3D%3D?line=5'>6</a>\u001b[0m     solution_arr \u001b[39m=\u001b[39m [np\u001b[39m.\u001b[39;49marray(x) \u001b[39mfor\u001b[39;49;00m x \u001b[39min\u001b[39;49;00m solution]\n\u001b[0;32m      <a href='vscode-notebook-cell:/c%3A/Users/bhkim/Workspace/AIProgramming/lab/week_10/week10_2_aip_lab.ipynb#W4sZmlsZQ%3D%3D?line=6'>7</a>\u001b[0m     solution_arr[\u001b[39m0\u001b[39m] \u001b[39m=\u001b[39m solution_arr[np\u001b[39m.\u001b[39mrandom\u001b[39m.\u001b[39mrandint(low\u001b[39m=\u001b[39m\u001b[39m0\u001b[39m, high\u001b[39m=\u001b[39m\u001b[39mlen\u001b[39m(solution_arr))]\n\u001b[0;32m      <a href='vscode-notebook-cell:/c%3A/Users/bhkim/Workspace/AIProgramming/lab/week_10/week10_2_aip_lab.ipynb#W4sZmlsZQ%3D%3D?line=7'>8</a>\u001b[0m     \u001b[39mreturn\u001b[39;00m solution_arr\n",
            "\u001b[1;31mTypeError\u001b[0m: iteration over a 0-d array"
          ]
        }
      ],
      "source": [
        "from math import sqrt\n",
        "\n",
        "def objective_function(new_solution):\n",
        "    # print(new_solution)\n",
        "    new_solution = np.array(new_solution)\n",
        "    target = np.array(cities[10])\n",
        "    # print(((cities[10] - new_solution) ** 2))\n",
        "    return sqrt(((target - new_solution) ** 2)[0] + ((target - new_solution) ** 2)[1])\n",
        "\n",
        "\n",
        "hc = HillClimber(\n",
        "        generate_neighbor=generate_neighbor,\n",
        "        objective_function=objective_function,\n",
        "        initial_solution_generator=initial_solution_generator,\n",
        "        mode='min'\n",
        ")\n",
        "hc.fit()\n",
        "print(f\"Hill Climber Best Solution: {hc.predict()}\")\n",
        "print(f\"Hill Climber Best Score: {hc.score()}\")"
      ]
    },
    {
      "cell_type": "markdown",
      "metadata": {
        "id": "WsPk_819Nm9N"
      },
      "source": [
        "# 1. FirstChoiceHillClimber\n",
        "\n",
        "Given the base class HillClimber, implement a FirstChoiceHillClimber class that extends the functionality of hill climbing by selecting the first neighboring solution that is better than the current solution. Override the fit method to perform the hill climbing process, predict to return the best solution found, and score to return the objective value of the best solution."
      ]
    },
    {
      "cell_type": "code",
      "execution_count": null,
      "metadata": {
        "id": "OPsgKsUWQGI8"
      },
      "outputs": [],
      "source": [
        "class FirstChoiceHillClimber(HillClimber):\n",
        "  pass"
      ]
    },
    {
      "cell_type": "markdown",
      "metadata": {
        "id": "-3ep3TEHMv_l"
      },
      "source": [
        "#2. SteepestAscentHillClimber\n",
        "\n",
        "\n",
        "Using the provided HillClimber class, create a SteepestAscentHillClimber class that finds the best neighbor out of all possible neighbor solutions generated in one iteration and moves to it if it is better than the current solution. Implement fit, predict, and score methods according to the class' operations."
      ]
    },
    {
      "cell_type": "code",
      "execution_count": null,
      "metadata": {
        "id": "UPvzCtWi6YoK"
      },
      "outputs": [],
      "source": []
    },
    {
      "cell_type": "markdown",
      "metadata": {
        "id": "DudJvXNo6agn"
      },
      "source": [
        "# 3. RandomRestartHillClimber\n",
        "\n",
        "Design a RandomRestartHillClimber class that uses the HillClimber class as a base. This class should perform hill climbing multiple times with randomly generated starting solutions and keep track of the best solution found across all restarts. Make sure to define fit, predict, and score methods for the class functionality."
      ]
    },
    {
      "cell_type": "code",
      "execution_count": null,
      "metadata": {
        "id": "vRqOey9I6ewJ"
      },
      "outputs": [],
      "source": []
    },
    {
      "cell_type": "markdown",
      "metadata": {
        "id": "FxXTtUHHQ8n-"
      },
      "source": [
        "# Evaluation Functions"
      ]
    },
    {
      "cell_type": "markdown",
      "metadata": {
        "id": "MgiWOgNv2R6J"
      },
      "source": [
        "\n",
        "\n",
        "| Ackley | Griewank | Convex |\n",
        "|------|----------|-----|\n",
        "| <img src=\"https://drive.google.com/uc?id=1M1slit0Toi9fSt5A_XFPLHdC73vue9-_\" width=\"400\"/>   | <img src=\"https://drive.google.com/uc?id=1dz2iCffrUXVa7bB4ohxjvDXPp3ud0vTO\" width=\"400\"/>      |   <img src=\"https://drive.google.com/uc?id=1FRXc3t5WQlKRWHT_sj7xfhocITK3-RoW\" width=\"400\"/>  |\n",
        "\n",
        "```\n",
        "def ackley_function(x):\n",
        "    term1 = -20 * math.exp(-0.2 * math.sqrt(sum(xi ** 2 for xi in x) / len(x)))\n",
        "    term2 = -math.exp(sum(math.cos(2 * math.pi * xi) for xi in x) / len(x))\n",
        "    return 20 + math.e + term1 + term2\n",
        "\n",
        "def convex_function(x):\n",
        "    return (x[0] - 2) ** 2 + 5 * (x[1] - 5) ** 2 + 8 * (x[2] + 8) ** 2 + 3 * (x[3] + 1) ** 2 + 6 * (x[4] - 7) ** 2\n",
        "\n",
        "def griewank_function(x):\n",
        "    sum_term = sum(xi ** 2 for xi in x) / 4000\n",
        "    prod_term = math.cos(x[0])\n",
        "    for i, xi in enumerate(x[1:], start=2):\n",
        "        prod_term *= math.cos(xi / math.sqrt(i))\n",
        "    return 1 + sum_term - prod_term\n",
        "```\n",
        "\n"
      ]
    },
    {
      "cell_type": "markdown",
      "metadata": {
        "id": "YOH6d9g7QkOn"
      },
      "source": [
        "#4. Continuous Problem Test\n",
        "\n",
        "FirstChoiceHillClimber and SteepestAscentHillClimber classes using the ackley_function as the objective function. We will test these classes to see if they can minimize this function, starting from a random initial solution in a 5-dimensional space.\n",
        "\n",
        "```\n",
        "def convex_function(x):\n",
        "    return (x[0] - 2) ** 2 + 5 * (x[1] - 5) ** 2 + 8 * (x[2] + 8) ** 2 + 3 * (x[3] + 1) ** 2 + 6 * (x[4] - 7) ** 2\n",
        "```"
      ]
    },
    {
      "cell_type": "code",
      "execution_count": null,
      "metadata": {
        "colab": {
          "base_uri": "https://localhost:8080/"
        },
        "id": "OrkZJnBy_7OV",
        "outputId": "9fea551a-2f75-4c8d-dba9-66a7160b1221"
      },
      "outputs": [
        {
          "name": "stdout",
          "output_type": "stream",
          "text": [
            "First Choice Hill Climber Best Solution: [-2.744348523383657, 7.330369422581427, -7.979925666894111, 2.680125663078684, 5.218540351455864]\n",
            "First Choice Hill Climber Best Score: 109.33674053513926\n"
          ]
        }
      ],
      "source": [
        "import numpy as np\n",
        "\n",
        "def convex_function(x):\n",
        "    return (x[0] - 2) ** 2 + 5 * (x[1] - 5) ** 2 + 8 * (x[2] + 8) ** 2 + 3 * (x[3] + 1) ** 2 + 6 * (x[4] - 7) ** 2\n",
        "\n",
        "def initial_solution(n=5):\n",
        "    return [np.random.uniform(-30, 30) for _ in range(n)]\n",
        "\n",
        "def generate_neighbor(solution, step_size):\n",
        "  \"\"\"\n",
        "  Generates a neighboring solution for a given continuous optimization problem.\n",
        "\n",
        "  Parameters:\n",
        "  - solution (numpy.ndarray): The current solution vector from which neighbors will be generated.\n",
        "  - step_size (float): The magnitude of the maximum change that can be applied to each component of the solution. Defines the neighborhood range.\n",
        "\n",
        "  Returns:\n",
        "    neighbors (list of numpy.ndarray): A list of neighboring solutions.\n",
        "\n",
        "  Examples:\n",
        "    current_solution = np.array([1.0, 1.5, -2.0, 0.5, 3.0])\n",
        "    neighbor = generate_neighbors(current_solution, 0.1)\n",
        "  \"\"\"\n",
        "  return [[solution[i] + np.random.uniform(-step_size, step_size) for i in range(len(solution))]]\n",
        "\n",
        "# Test the FirstChoiceHillClimber class\n",
        "first_choice_hill_climber = FirstChoiceHillClimber(\n",
        "    generate_neighbor=generate_neighbor,\n",
        "    objective_function=convex_function,\n",
        "    initial_solution_generator=initial_solution,\n",
        "    step_size=0.1,\n",
        "    max_iter=100000,\n",
        "    mode='min'\n",
        ")\n",
        "\n",
        "first_choice_hill_climber.fit()\n",
        "print(f\"First Choice Hill Climber Best Solution: {first_choice_hill_climber.predict()}\")\n",
        "print(f\"First Choice Hill Climber Best Score: {first_choice_hill_climber.score()}\")"
      ]
    },
    {
      "cell_type": "code",
      "execution_count": null,
      "metadata": {
        "colab": {
          "base_uri": "https://localhost:8080/"
        },
        "id": "S0GuNcIsGMkJ",
        "outputId": "6c257f71-e3ad-49f0-ebde-925c4d8d2394"
      },
      "outputs": [
        {
          "name": "stdout",
          "output_type": "stream",
          "text": [
            "Help on function generate_neighbor in module __main__:\n",
            "\n",
            "generate_neighbor(solution, step_size)\n",
            "    Generates a neighboring solution for a given continuous optimization problem. \n",
            "    \n",
            "    Parameters\n",
            "    - solution (numpy.ndarray): The current solution vector from which neighbors will be generated.\n",
            "    - step_size (float): The magnitude of the maximum change that can be applied to each component of the solution. Defines the neighborhood range.\n",
            "    \n",
            "    Returns\n",
            "      neighbors (list of numpy.ndarray): A list of neighboring solutions.\n",
            "    \n",
            "    Examples\n",
            "      current_solution = np.array([1.0, 1.5, -2.0, 0.5, 3.0])\n",
            "      neighbor = generate_neighbors(current_solution, 0.1)\n",
            "\n"
          ]
        }
      ],
      "source": [
        "help(generate_neighbor)"
      ]
    }
  ],
  "metadata": {
    "colab": {
      "provenance": []
    },
    "kernelspec": {
      "display_name": "Python 3",
      "name": "python3"
    },
    "language_info": {
      "codemirror_mode": {
        "name": "ipython",
        "version": 3
      },
      "file_extension": ".py",
      "mimetype": "text/x-python",
      "name": "python",
      "nbconvert_exporter": "python",
      "pygments_lexer": "ipython3",
      "version": "3.11.6"
    }
  },
  "nbformat": 4,
  "nbformat_minor": 0
}
